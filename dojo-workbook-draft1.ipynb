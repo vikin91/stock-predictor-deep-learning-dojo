{
 "cells": [
  {
   "cell_type": "markdown",
   "metadata": {},
   "source": [
    "# Predicting SAP stock prices\n",
    "## Using PyTorch and SageMaker\n",
    "\n",
    "---\n",
    "\n",
    "Now that we have a basic understanding of how SageMaker works we will try to use it to construct a complete project from end to end. Our goal will be to have a simple web page which a user can use to enter a movie review. The web page will then send the review off to our deployed model which will predict the sentiment of the entered review.\n",
    "\n",
    "## Instructions\n",
    "\n",
    "> **Note**: Code and Markdown cells can be executed using the **Shift+Enter** keyboard shortcut. In addition, a cell can be edited by typically clicking it (double-click for Markdown cells) or by pressing **Enter** while it is highlighted.\n",
    "\n",
    "## General Outline\n",
    "\n",
    "Recall the general outline for SageMaker projects using a notebook instance.\n",
    "\n",
    "1. Download or otherwise retrieve the data.\n",
    "2. Process / Prepare the data.\n",
    "3. Upload the processed data to S3.\n",
    "4. Train a chosen model.\n",
    "5. Test the trained model (typically using a batch transform job).\n",
    "6. Deploy the trained model.\n",
    "7. Use the deployed model.\n",
    "\n",
    "For this project, you will be following the steps in the general outline with some modifications. \n",
    "\n",
    "First, you will not be testing the model in its own step. You will still be testing the model, however, you will do it by deploying your model and then using the deployed model by sending the test data to it. One of the reasons for doing this is so that you can make sure that your deployed model is working correctly before moving forward.\n",
    "\n",
    "In addition, you will deploy and use your trained model a second time. In the second iteration you will customize the way that your trained model is deployed by including some of your own code. In addition, your newly deployed model will be used in the sentiment analysis web app."
   ]
  },
  {
   "cell_type": "markdown",
   "metadata": {},
   "source": [
    "## Step 1: Downloading the data\n",
    "\n",
    "We use the historical data from a polish provide Stooq.\n",
    "Visit https://stooq.com/q/d/?s=sap.de to fine-tune the data."
   ]
  },
  {
   "cell_type": "code",
   "execution_count": 1,
   "metadata": {},
   "outputs": [],
   "source": [
    "%mkdir -p \"data\"\n",
    "# Clean existing data if necessary\n",
    "!rm -rf \"data/*\"\n",
    "\n",
    "!curl -k -sS \"https://stooq.com/q/d/l/?s=sap.de&i=d\" > \"data/data.raw.csv\"\n",
    "# i=d - interval daily (other: w,m,q,y - week, month, quarter, year)\n",
    "# o=1100000 - options - binary mask \n",
    "# other..."
   ]
  },
  {
   "cell_type": "markdown",
   "metadata": {},
   "source": [
    "## Step 2: Preparing and Processing the data\n",
    "\n",
    "Default data range used at stooq is: September 1994 until today"
   ]
  },
  {
   "cell_type": "code",
   "execution_count": 2,
   "metadata": {},
   "outputs": [],
   "source": [
    "import os\n",
    "import glob\n",
    "import pandas as pd\n",
    "import math\n",
    "import matplotlib.pyplot as plt\n",
    "\n",
    "scaling_factor_price = 150.0 # Divide all prices by this factor\n",
    "\n",
    "def read_stock_data(data_dir='data/'):\n",
    "    data = {}\n",
    "    labels = {}\n",
    "    \n",
    "    ymd_date_parser = lambda x: pd.datetime.strptime(x, '%Y-%m-%d')\n",
    "    \n",
    "    raw = pd.read_csv(data_dir+\"data.raw.csv\", parse_dates=['Date'], date_parser=ymd_date_parser)\n",
    "    \n",
    "    # Selecing columns for input\n",
    "    selected_columns_input = pd.DataFrame({\n",
    "        \"Volume\": raw['Volume'],\n",
    "        \"AvgPrice\": raw['Low'] + (raw['High'] - raw['Low'])/2\n",
    "    })\n",
    "    \n",
    "    # Selecing columns for target\n",
    "    # Low and High are added as a reference to manually check corectenss of data transformation\n",
    "    selected_columns_target = pd.DataFrame({\n",
    "        \"AvgPrice\": raw['Low'] + (raw['High'] - raw['Low'])/2\n",
    "    })\n",
    "    # Redorer columns\n",
    "    selected_columns_input = selected_columns_input.reindex(columns=['AvgPrice', 'Volume'])\n",
    "    selected_columns_target = selected_columns_target.reindex(columns=['AvgPrice'])\n",
    "    \n",
    "    data = selected_columns_input.iloc[:-1] # input: all but last\n",
    "    target = selected_columns_target.iloc[1:] # target: all but last\n",
    "    \n",
    "    # Need to reset index so that both sets are indexed from 0 to 6043\n",
    "    data.reset_index(inplace=True, drop=True)\n",
    "    # Without reseting, the index of the target would be from 1 to 6044\n",
    "    # original index should be dropped\n",
    "    target.reset_index(inplace=True, drop=True)\n",
    "\n",
    "    return data, target"
   ]
  },
  {
   "cell_type": "code",
   "execution_count": 3,
   "metadata": {},
   "outputs": [
    {
     "name": "stdout",
     "output_type": "stream",
     "text": [
      "Shape of input:\n",
      " (6045, 2)\n",
      "Shape of target:\n",
      " (6045, 1)\n",
      "Showing head of input:\n",
      "    AvgPrice    Volume\n",
      "0    2.9999  161888.0\n",
      "1    3.0099  420909.0\n",
      "2    3.0576   97134.0\n",
      "3    3.0576   48566.0\n",
      "4    3.0576  161888.0\n",
      "Showing tail of input:\n",
      "       AvgPrice     Volume\n",
      "6040    99.025  1649618.0\n",
      "6041    99.485  1780112.0\n",
      "6042   100.315  2488618.0\n",
      "6043    99.670  1783181.0\n",
      "6044    99.780  2673512.0\n",
      "Showing head of target:\n",
      "    AvgPrice\n",
      "0    3.0099\n",
      "1    3.0576\n",
      "2    3.0576\n",
      "3    3.0576\n",
      "4    3.0933\n",
      "Showing tail of target:\n",
      "       AvgPrice\n",
      "6040    99.485\n",
      "6041   100.315\n",
      "6042    99.670\n",
      "6043    99.780\n",
      "6044    98.125\n",
      "Data size input:  6045\n",
      "Data size target:  6045\n"
     ]
    },
    {
     "data": {
      "image/png": "[encoded data removed]",
      "text/plain": [
       "<Figure size 1152x360 with 1 Axes>"
      ]
     },
     "metadata": {},
     "output_type": "display_data"
    }
   ],
   "source": [
    "plt.figure(figsize=(16,5))\n",
    "input_data, target_data = read_stock_data()\n",
    "\n",
    "print(\"Shape of input:\\n\", input_data.shape)\n",
    "print(\"Shape of target:\\n\", target_data.shape)\n",
    "\n",
    "print(\"Showing head of input:\\n\", input_data.head(5))\n",
    "print(\"Showing tail of input:\\n\", input_data.tail(5))\n",
    "\n",
    "print(\"Showing head of target:\\n\", target_data.head(5))\n",
    "print(\"Showing tail of target:\\n\", target_data.tail(5))\n",
    "\n",
    "data_len = min(len(input_data),len(target_data))\n",
    "\n",
    "print(\"Data size input: \", len(input_data))\n",
    "print(\"Data size target: \", len(target_data))\n",
    "\n",
    "last_days = 5\n",
    "skip_first_days = data_len-last_days\n",
    "\n",
    "x_axis = range(0,len(target_data))\n",
    "\n",
    "plt.plot(x_axis[skip_first_days:], input_data['AvgPrice'][skip_first_days:], 'b.', label='Average price, input')\n",
    "plt.plot(x_axis[skip_first_days:], target_data['AvgPrice'][skip_first_days:], 'r.', label='Average price next day, target')\n",
    "\n",
    "plt.legend(loc='best')\n",
    "plt.show()"
   ]
  },
  {
   "cell_type": "code",
   "execution_count": 4,
   "metadata": {},
   "outputs": [
    {
     "name": "stdout",
     "output_type": "stream",
     "text": [
      "There are 1 null values in input\n",
      "There are 0 null values in target\n",
      "Index Int64Index([], dtype='int64') in column AvgPrice is NaN or Null\n",
      "Index Int64Index([21], dtype='int64') in column Volume is NaN or Null\n",
      "    AvgPrice  Volume\n",
      "21    3.3067     NaN\n",
      "There are 0 null values in input\n",
      "There are 0 null values in target\n"
     ]
    }
   ],
   "source": [
    "# Check if data is clean\n",
    "# Check for NaN, None, and other non-numerical data\n",
    "print(\"There are {} null values in input\".format(input_data.isnull().values.sum()))\n",
    "print(\"There are {} null values in target\".format(target_data.isnull().values.sum()))\n",
    "\n",
    "import numpy as np\n",
    "\n",
    "columns = input_data.columns.values.tolist()\n",
    "for column in columns:\n",
    "    index = input_data[column].index[input_data[column].apply(np.isnan)]\n",
    "    print('Index {} in column {} is NaN or Null'.format(index,column))\n",
    "\n",
    "# Row 21 Volume cotains spoiled data\n",
    "print(input_data[21:22])\n",
    "\n",
    "# lets remove this row from both datasets\n",
    "if input_data.isnull().values.sum() > 0:\n",
    "    input_data = input_data.drop(input_data.index[21])\n",
    "    target_data = target_data.drop(target_data.index[21])\n",
    "\n",
    "# Check again\n",
    "print(\"There are {} null values in input\".format(input_data.isnull().values.sum()))\n",
    "print(\"There are {} null values in target\".format(target_data.isnull().values.sum()))"
   ]
  },
  {
   "cell_type": "code",
   "execution_count": 5,
   "metadata": {},
   "outputs": [],
   "source": [
    "def divide_stock_data(data, labels):\n",
    "    \"\"\"Prepare training and test sets from stock data.\"\"\"\n",
    "    \n",
    "    data_len = len(data)\n",
    "    # division point between train and test data\n",
    "    ratio = 0.9\n",
    "    division_index = int(data_len*ratio)\n",
    "    \n",
    "    data_train = data[:division_index]\n",
    "    data_test = data[division_index:]\n",
    "    labels_train = labels[:division_index]\n",
    "    labels_test = labels[division_index:]\n",
    "    \n",
    "    # Return a unified training data, test data, training labels, test labets\n",
    "    return data_train, data_test, labels_train, labels_test"
   ]
  },
  {
   "cell_type": "code",
   "execution_count": 6,
   "metadata": {},
   "outputs": [
    {
     "name": "stdout",
     "output_type": "stream",
     "text": [
      "Stock days in data set: train = 5439, test = 605\n"
     ]
    }
   ],
   "source": [
    "train_X_orig, test_X_orig, train_y_orig, test_y_orig = divide_stock_data(input_data, target_data)\n",
    "print(\"Stock days in data set: train = {}, test = {}\".format(len(train_X_orig), len(test_X_orig)))"
   ]
  },
  {
   "cell_type": "code",
   "execution_count": 9,
   "metadata": {},
   "outputs": [
    {
     "name": "stdout",
     "output_type": "stream",
     "text": [
      "      AvgPrice    Volume\n",
      "5435  2.929518 -0.570956\n",
      "5436  2.889793 -0.734517\n",
      "5437  2.845410 -0.695541\n",
      "5438  2.878626 -0.641506\n",
      "5439  2.817459 -0.694132\n",
      "      AvgPrice\n",
      "5435  2.889793\n",
      "5436  2.845410\n",
      "5437  2.878626\n",
      "5438  2.817459\n",
      "5439  2.826170\n",
      "      AvgPrice    Volume\n",
      "6040  4.163697 -0.738861\n",
      "6041  4.193051 -0.709685\n",
      "6042  4.246018 -0.551273\n",
      "6043  4.204857 -0.708999\n",
      "6044  4.211877 -0.509933\n",
      "      AvgPrice\n",
      "6040  4.193051\n",
      "6041  4.246018\n",
      "6042  4.204857\n",
      "6043  4.211877\n",
      "6044  4.106263\n",
      "[[79.0625]\n",
      " [78.367 ]\n",
      " [78.8875]\n",
      " [77.929 ]\n",
      " [78.0655]]\n",
      "[[ 99.485]\n",
      " [100.315]\n",
      " [ 99.67 ]\n",
      " [ 99.78 ]\n",
      " [ 98.125]]\n"
     ]
    }
   ],
   "source": [
    "# Normalization of data\n",
    "from pandas import Series\n",
    "from sklearn.preprocessing import StandardScaler\n",
    "\n",
    "train_X = train_X_orig.copy()\n",
    "train_y = train_y_orig.copy()\n",
    "test_X  = test_X_orig.copy() \n",
    "test_y  = test_y_orig.copy() \n",
    "\n",
    "scaler_volume = StandardScaler()\n",
    "scaler_volume.fit(train_X[['Volume']].values)\n",
    "\n",
    "scaler_price = StandardScaler()\n",
    "scaler_price.fit(train_X[['AvgPrice']].values)\n",
    "\n",
    "\n",
    "train_X[['Volume']] = scaler_volume.transform(train_X[['Volume']])\n",
    "\n",
    "train_X[['AvgPrice']] = scaler_price.transform(train_X[['AvgPrice']])\n",
    "train_y[['AvgPrice']] = scaler_price.transform(train_y[['AvgPrice']])\n",
    "\n",
    "# test data is also normalized but using maximum from the training data\n",
    "test_X[['Volume']] = scaler_volume.transform(test_X[['Volume']])\n",
    "\n",
    "test_X[['AvgPrice']] = scaler_price.transform(test_X[['AvgPrice']])\n",
    "test_y[['AvgPrice']] = scaler_price.transform(test_y[['AvgPrice']])\n",
    "\n",
    "\n",
    "print(train_X[-5:])\n",
    "print(train_y[-5:])\n",
    "\n",
    "print(test_X[-5:])\n",
    "print(test_y[-5:])\n",
    "\n",
    "# How to go back to the unscaled price/volume\n",
    "print(scaler_price.inverse_transform(train_y[-5:]))\n",
    "print(scaler_price.inverse_transform(test_y[-5:]))\n"
   ]
  },
  {
   "cell_type": "markdown",
   "metadata": {},
   "source": [
    "Now that we have our training and testing sets unified and prepared, we should do a quick check and see an example of the data our model will be trained on. This is generally a good idea as it allows you to see how each of the further processing steps affects the reviews and it also ensures that the data has been loaded correctly."
   ]
  },
  {
   "cell_type": "code",
   "execution_count": 10,
   "metadata": {},
   "outputs": [
    {
     "name": "stdout",
     "output_type": "stream",
     "text": [
      "   AvgPrice\n",
      "0 -1.963489\n",
      "   AvgPrice    Volume\n",
      "1 -1.963489 -1.013584\n"
     ]
    }
   ],
   "source": [
    "print(train_y[0:1]) # ideal prediction result from day 1\n",
    "print(train_X[1:2]) # should match the input from day 2"
   ]
  },
  {
   "cell_type": "markdown",
   "metadata": {},
   "source": [
    "## Step 3: Upload the data to S3\n",
    "\n",
    "As in the XGBoost notebook, we will need to upload the training dataset to S3 in order for our training code to access it. For now we will save it locally and we will upload to S3 later on.\n",
    "\n",
    "### Save the processed training dataset locally\n",
    "\n",
    "It is important to note the format of the data that we are saving as we will need to know it when we write the training code. In our case, each row of the dataset has the form `label`, `length`, `review[500]` where `review[500]` is a sequence of `500` integers representing the words in the review."
   ]
  },
  {
   "cell_type": "code",
   "execution_count": 11,
   "metadata": {},
   "outputs": [],
   "source": [
    "data_dir = 'data'\n",
    "\n",
    "pd.concat([pd.DataFrame(train_y), pd.DataFrame(train_X)], axis=1) \\\n",
    "        .to_csv(os.path.join('data', 'train.csv'), header=False, index=False)\n",
    "\n",
    "\n",
    "pd.concat([pd.DataFrame(test_y), pd.DataFrame(test_X)], axis=1) \\\n",
    "        .to_csv(os.path.join('data', 'test.csv'), header=False, index=False)"
   ]
  },
  {
   "cell_type": "markdown",
   "metadata": {},
   "source": [
    "### Uploading the training data\n",
    "\n",
    "\n",
    "Next, we need to upload the training data to the SageMaker default S3 bucket so that we can provide access to it while training our model."
   ]
  },
  {
   "cell_type": "code",
   "execution_count": 12,
   "metadata": {},
   "outputs": [
    {
     "name": "stderr",
     "output_type": "stream",
     "text": [
      "INFO:sagemaker:Created S3 bucket: sagemaker-us-east-1-628201230330\n"
     ]
    }
   ],
   "source": [
    "import sagemaker\n",
    "\n",
    "sagemaker_session = sagemaker.Session()\n",
    "\n",
    "bucket = sagemaker_session.default_bucket()\n",
    "prefix = 'sagemaker/stock-predictor-dojo1'\n",
    "\n",
    "role = sagemaker.get_execution_role()"
   ]
  },
  {
   "cell_type": "code",
   "execution_count": 13,
   "metadata": {},
   "outputs": [],
   "source": [
    "input_data = sagemaker_session.upload_data(path=data_dir, bucket=bucket, key_prefix=prefix)"
   ]
  },
  {
   "cell_type": "markdown",
   "metadata": {},
   "source": [
    "## Step 4: Build and Train the PyTorch Model\n",
    "\n",
    "In the XGBoost notebook we discussed what a model is in the SageMaker framework. In particular, a model comprises three objects\n",
    "\n",
    " - Model Artifacts,\n",
    " - Training Code, and\n",
    " - Inference Code,\n",
    " \n",
    "each of which interact with one another. In the XGBoost example we used training and inference code that was provided by Amazon. Here we will still be using containers provided by Amazon with the added benefit of being able to include our own custom code.\n",
    "\n",
    "We will start by implementing our own neural network in PyTorch along with a training script. For the purposes of this project we have provided the necessary model object in the `model.py` file, inside of the `train` folder. You can see the provided implementation by running the cell below."
   ]
  },
  {
   "cell_type": "code",
   "execution_count": 14,
   "metadata": {},
   "outputs": [
    {
     "name": "stdout",
     "output_type": "stream",
     "text": [
      "\u001b[34mimport\u001b[39;49;00m \u001b[04m\u001b[36mtorch\u001b[39;49;00m\r\n",
      "\u001b[34mimport\u001b[39;49;00m \u001b[04m\u001b[36mtorch.nn\u001b[39;49;00m \u001b[34mas\u001b[39;49;00m \u001b[04m\u001b[36mnn\u001b[39;49;00m\r\n",
      "\u001b[34mfrom\u001b[39;49;00m \u001b[04m\u001b[36mtorch.autograd\u001b[39;49;00m \u001b[34mimport\u001b[39;49;00m Variable\r\n",
      "\r\n",
      "\u001b[34mclass\u001b[39;49;00m \u001b[04m\u001b[32mLSTM\u001b[39;49;00m(nn.Module):\r\n",
      "\r\n",
      "    \u001b[34mdef\u001b[39;49;00m \u001b[32m__init__\u001b[39;49;00m(\u001b[36mself\u001b[39;49;00m, input_dim, hidden_dim, batch_size, output_dim=\u001b[34m1\u001b[39;49;00m,num_layers=\u001b[34m2\u001b[39;49;00m):\r\n",
      "        \u001b[36msuper\u001b[39;49;00m(LSTM, \u001b[36mself\u001b[39;49;00m).\u001b[32m__init__\u001b[39;49;00m()\r\n",
      "        \u001b[36mself\u001b[39;49;00m.input_dim = input_dim\r\n",
      "        \u001b[36mself\u001b[39;49;00m.hidden_dim = hidden_dim\r\n",
      "        \u001b[36mself\u001b[39;49;00m.batch_size = batch_size\r\n",
      "        \u001b[36mself\u001b[39;49;00m.num_layers = num_layers\r\n",
      "\r\n",
      "        \u001b[37m# Define the LSTM layer\u001b[39;49;00m\r\n",
      "        \u001b[36mself\u001b[39;49;00m.lstm = nn.LSTM(\u001b[36mself\u001b[39;49;00m.input_dim, \u001b[36mself\u001b[39;49;00m.hidden_dim, \u001b[36mself\u001b[39;49;00m.num_layers)\r\n",
      "\r\n",
      "        \u001b[37m# Define the output layer\u001b[39;49;00m\r\n",
      "        \u001b[36mself\u001b[39;49;00m.linear = nn.Linear(\u001b[36mself\u001b[39;49;00m.hidden_dim, output_dim)\r\n",
      "\r\n",
      "    \u001b[34mdef\u001b[39;49;00m \u001b[32minit_hidden\u001b[39;49;00m(\u001b[36mself\u001b[39;49;00m):\r\n",
      "        \u001b[37m# This is what we'll initialise our hidden state as\u001b[39;49;00m\r\n",
      "        \u001b[34mreturn\u001b[39;49;00m (Variable(torch.zeros(\u001b[36mself\u001b[39;49;00m.num_layers, \u001b[36mself\u001b[39;49;00m.batch_size, \u001b[36mself\u001b[39;49;00m.hidden_dim)),\r\n",
      "                Variable(torch.zeros(\u001b[36mself\u001b[39;49;00m.num_layers, \u001b[36mself\u001b[39;49;00m.batch_size, \u001b[36mself\u001b[39;49;00m.hidden_dim)))\r\n",
      "\r\n",
      "    \u001b[34mdef\u001b[39;49;00m \u001b[32mforward\u001b[39;49;00m(\u001b[36mself\u001b[39;49;00m, \u001b[36minput\u001b[39;49;00m):\r\n",
      "        \u001b[37m# Forward pass through LSTM layer\u001b[39;49;00m\r\n",
      "        \u001b[37m# shape of lstm_out: [input_size, batch_size, hidden_dim]\u001b[39;49;00m\r\n",
      "        \u001b[37m# shape of self.hidden: (a, b), where a and b both \u001b[39;49;00m\r\n",
      "        \u001b[37m# have shape (num_layers, batch_size, hidden_dim).\u001b[39;49;00m\r\n",
      "        lstm_out, \u001b[36mself\u001b[39;49;00m.hidden = \u001b[36mself\u001b[39;49;00m.lstm(\u001b[36minput\u001b[39;49;00m.view(\u001b[36mlen\u001b[39;49;00m(\u001b[36minput\u001b[39;49;00m), \u001b[36mself\u001b[39;49;00m.batch_size, -\u001b[34m1\u001b[39;49;00m))\r\n",
      "        \r\n",
      "        \u001b[37m# Only take the output from the final timestep\u001b[39;49;00m\r\n",
      "        \u001b[37m# Can pass on the entirety of lstm_out to the next layer if it is a seq2seq prediction\u001b[39;49;00m\r\n",
      "        y_pred = \u001b[36mself\u001b[39;49;00m.linear(lstm_out[-\u001b[34m1\u001b[39;49;00m].view(\u001b[36mself\u001b[39;49;00m.batch_size, -\u001b[34m1\u001b[39;49;00m))\r\n",
      "        \u001b[34mreturn\u001b[39;49;00m y_pred.view(-\u001b[34m1\u001b[39;49;00m)\r\n",
      "\r\n",
      "\u001b[37m# model = LSTM(lstm_input_size, h1, batch_size=num_train, output_dim=output_dim, num_layers=num_layers)\u001b[39;49;00m\r\n"
     ]
    }
   ],
   "source": [
    "!pygmentize train/modelLstm.py"
   ]
  },
  {
   "cell_type": "markdown",
   "metadata": {},
   "source": [
    "The important takeaway from the implementation provided is that there are three parameters that we may wish to tweak to improve the performance of our model. These are the embedding dimension, the hidden dimension and the size of the vocabulary. We will likely want to make these parameters configurable in the training script so that if we wish to modify them we do not need to modify the script itself. We will see how to do this later on. To start we will write some of the training code in the notebook so that we can more easily diagnose any issues that arise.\n",
    "\n",
    "First we will load a small portion of the training data set to use as a sample. It would be very time consuming to try and train the model completely in the notebook as we do not have access to a gpu and the compute instance that we are using is not particularly powerful. However, we can work on a small bit of the data to get a feel for how our training script is behaving."
   ]
  },
  {
   "cell_type": "code",
   "execution_count": 15,
   "metadata": {},
   "outputs": [
    {
     "name": "stdout",
     "output_type": "stream",
     "text": [
      "torch.Size([5400])\n",
      "torch.Size([5400, 2])\n"
     ]
    }
   ],
   "source": [
    "import torch\n",
    "import torch.utils.data\n",
    "\n",
    "# Read in only the first 250 rows\n",
    "train_sample = pd.read_csv(os.path.join(data_dir, 'train.csv'), header=None, names=None, nrows=5400)\n",
    "\n",
    "# Order of data in train.csv:\n",
    "# Y-Average  |  Y-Average  X-Volume\n",
    "# to_predict |  INPUT VALUES...\n",
    "\n",
    "# Turn the input pandas dataframe into tensors\n",
    "# For Y, we select 3rd column - average price next day\n",
    "# For X, we select all but first 3 columns - all data for the current day\n",
    "train_sample_y = torch.from_numpy(train_sample[[0]].values).float().squeeze()\n",
    "train_sample_X = torch.from_numpy(train_sample.drop([0], axis=1).values).float()\n",
    "\n",
    "#print(train_sample)\n",
    "print(train_sample_y.shape)\n",
    "print(train_sample_X.shape)\n",
    "\n",
    "# Build the dataset\n",
    "train_sample_ds = torch.utils.data.TensorDataset(train_sample_X, train_sample_y)\n",
    "# Build the dataloader\n",
    "train_sample_dl = torch.utils.data.DataLoader(train_sample_ds, batch_size=50)"
   ]
  },
  {
   "cell_type": "markdown",
   "metadata": {},
   "source": [
    "### Writing the training method and testing it locally\n",
    "\n",
    "Next we need to write the training code itself. This should be very similar to training methods that you have written before to train PyTorch models. We will leave any difficult aspects such as model saving / loading and parameter loading until a little later."
   ]
  },
  {
   "cell_type": "code",
   "execution_count": 18,
   "metadata": {},
   "outputs": [
    {
     "name": "stdout",
     "output_type": "stream",
     "text": [
      "Epoch: 1, MSELoss: 0.762276257090788\n",
      "Epoch: 2, MSELoss: 0.1506485724266558\n",
      "Epoch: 3, MSELoss: 0.012497442307196453\n",
      "Epoch: 4, MSELoss: 0.015095883094343461\n",
      "Epoch: 5, MSELoss: 0.013627004009322263\n",
      "Epoch: 6, MSELoss: 0.013778384324891872\n",
      "Epoch: 7, MSELoss: 0.013211132588804941\n",
      "Epoch: 8, MSELoss: 0.012827955219513064\n",
      "Epoch: 9, MSELoss: 0.01257997681278977\n",
      "Epoch: 10, MSELoss: 0.012446236999864966\n",
      "Epoch: 11, MSELoss: 0.012375456553720007\n",
      "Epoch: 12, MSELoss: 0.012321369596099464\n",
      "Epoch: 13, MSELoss: 0.012251674982070216\n",
      "Epoch: 14, MSELoss: 0.012146708852284334\n",
      "Epoch: 15, MSELoss: 0.011996113336054905\n"
     ]
    },
    {
     "data": {
      "text/plain": [
       "LSTM(\n",
       "  (lstm): LSTM(2, 100, num_layers=2)\n",
       "  (linear): Linear(in_features=100, out_features=1, bias=True)\n",
       ")"
      ]
     },
     "execution_count": 18,
     "metadata": {},
     "output_type": "execute_result"
    }
   ],
   "source": [
    "import torch\n",
    "from torch import nn\n",
    "from torch.autograd import Variable\n",
    "\n",
    "   \n",
    "def train(model, train_loader, epochs, optimizer, criterion, device):\n",
    "    \n",
    "    for epoch in range(1, epochs + 1):\n",
    "        model.train()\n",
    "        model.hidden = model.init_hidden()\n",
    "        total_loss = 0\n",
    "        \n",
    "        \n",
    "        for batch in train_loader:\n",
    "            batch_X, batch_y = batch            \n",
    "            batch_X = batch_X.to(device)\n",
    "            batch_y = batch_y.to(device)\n",
    "            \n",
    "            # convert data into Tensors\n",
    "            # x_tensor = torch.Tensor(x).unsqueeze(0) # unsqueeze gives a 1, batch_size dimension\n",
    "            # y_tensor = torch.Tensor(y)\n",
    "            x_tensor = torch.Tensor(batch_X).unsqueeze(0)\n",
    "            model.zero_grad()\n",
    "            \n",
    "            output = model(x_tensor)\n",
    "           \n",
    "            loss = criterion(output.squeeze(), batch_y.float())\n",
    "            loss.backward()\n",
    "            nn.utils.clip_grad_norm_(model.parameters(), 5)\n",
    "            optimizer.step()\n",
    "            \n",
    "            total_loss += loss.data.item()\n",
    "        print(\"Epoch: {}, MSELoss: {}\".format(epoch, total_loss / len(train_loader)))\n",
    "    return model\n",
    "\n",
    "import torch.optim as optim\n",
    "from train.modelLstm import LSTM\n",
    "\n",
    "device = torch.device(\"cuda\" if torch.cuda.is_available() else \"cpu\")\n",
    "model = LSTM(input_dim=2, hidden_dim=100, batch_size=50, output_dim=1, num_layers=2).to(device)\n",
    "optimizer = optim.Adam(model.parameters(), lr=0.001)\n",
    "loss_fn = torch.nn.MSELoss()\n",
    "\n",
    "train(model, train_sample_dl, 15, optimizer, loss_fn, device)"
   ]
  },
  {
   "cell_type": "markdown",
   "metadata": {},
   "source": [
    "Supposing we have the training method above, we will test that it is working by writing a bit of code in the notebook that executes our training method on the small sample training set that we loaded earlier. The reason for doing this in the notebook is so that we have an opportunity to fix any errors that arise early when they are easier to diagnose."
   ]
  },
  {
   "cell_type": "code",
   "execution_count": 24,
   "metadata": {},
   "outputs": [
    {
     "name": "stdout",
     "output_type": "stream",
     "text": [
      "torch.Size([600])\n",
      "torch.Size([600, 2])\n",
      "Output: tensor([2.6863, 2.6566, 2.5834, 2.5458, 2.5440, 2.5885, 2.5973, 2.5849, 2.6146,\n",
      "        2.5593, 2.5262, 2.4901, 2.5303, 2.5315, 2.6029, 2.6257, 2.6732, 2.6667,\n",
      "        2.6762, 2.7110, 2.6828, 2.6543, 2.6610, 2.6055, 2.5432, 2.5700, 2.5416,\n",
      "        2.5785, 2.6479, 2.6773, 2.6700, 2.6797, 2.6924, 2.7502, 2.8012, 2.7471,\n",
      "        2.7702, 2.7799, 2.7516, 2.7350, 2.7386, 2.7597, 2.7593, 2.7765, 2.7671,\n",
      "        2.8062, 2.7811, 2.7629, 2.8015, 2.8536], grad_fn=<ViewBackward>)\n",
      "Expected: tensor([2.7793, 2.6756, 2.6269, 2.6071, 2.6834, 2.7017, 2.6245, 2.6884, 2.6117,\n",
      "        2.5822, 2.5413, 2.6015, 2.6105, 2.6812, 2.7346, 2.7939, 2.7917, 2.8196,\n",
      "        2.8693, 2.8342, 2.7883, 2.7700, 2.6912, 2.5903, 2.6565, 2.6198, 2.6592,\n",
      "        2.7408, 2.8005, 2.7970, 2.8097, 2.8346, 2.8677, 2.9081, 2.9227, 2.9457,\n",
      "        2.9788, 2.9419, 2.9283, 2.9451, 2.9621, 2.9692, 2.9767, 2.9727, 3.0105,\n",
      "        2.9643, 2.9506, 3.0006, 3.0654, 3.0782])\n",
      "Loss: tensor(0.0224, grad_fn=<MseLossBackward>)\n",
      "Output: tensor([2.8523, 2.8308, 2.8146, 2.8222, 2.8151, 2.8111, 2.8268, 2.8500, 2.8472,\n",
      "        2.8104, 2.8095, 2.8683, 2.8750, 2.8754, 2.8828, 2.8907, 2.8675, 2.8874,\n",
      "        2.8994, 2.8977, 2.8854, 2.9123, 2.9111, 2.9316, 2.9473, 2.9530, 2.9448,\n",
      "        2.9517, 2.9422, 2.9467, 2.9818, 3.0235, 3.0177, 3.0111, 2.9822, 2.9745,\n",
      "        3.0346, 3.0423, 3.0414, 3.0087, 3.0292, 3.0325, 3.0382, 3.0496, 3.0200,\n",
      "        3.0379, 3.0366, 3.1088, 3.1578, 3.0940], grad_fn=<ViewBackward>)\n",
      "Expected: tensor([3.0450, 3.0279, 3.0478, 3.0468, 3.0251, 3.0415, 3.0664, 3.0362, 3.0154,\n",
      "        2.9882, 3.0794, 3.1123, 3.1235, 3.1294, 3.1216, 3.0890, 3.1141, 3.1567,\n",
      "        3.1340, 3.1418, 3.1598, 3.1818, 3.2070, 3.2386, 3.2556, 3.2433, 3.2525,\n",
      "        3.2243, 3.2550, 3.2836, 3.3512, 3.3549, 3.3242, 3.3066, 3.2905, 3.3630,\n",
      "        3.3854, 3.3919, 3.3522, 3.3726, 3.3702, 3.3879, 3.3922, 3.3698, 3.3814,\n",
      "        3.3925, 3.4797, 3.4599, 3.4837, 3.4834])\n",
      "Loss: tensor(0.0875, grad_fn=<MseLossBackward>)\n",
      "Output: tensor([3.0985, 3.0648, 3.0848, 3.0848, 3.0529, 3.0691, 3.0841, 3.0905, 3.1395,\n",
      "        3.1518, 3.1375, 3.1312, 3.1064, 3.1024, 3.1161, 3.0962, 3.1106, 3.1146,\n",
      "        3.0912, 3.0744, 3.0849, 3.1217, 3.1797, 3.1892, 3.1758, 3.1399, 3.1434,\n",
      "        3.1540, 3.1379, 3.1611, 3.1869, 3.1923, 3.2239, 3.2427, 3.2422, 3.2494,\n",
      "        3.2454, 3.2502, 3.2542, 3.2396, 3.2574, 3.2302, 3.2436, 3.2635, 3.2555,\n",
      "        3.2612, 3.2629, 3.2650, 3.3005, 3.2877], grad_fn=<ViewBackward>)\n",
      "Expected: tensor([3.4288, 3.4658, 3.4800, 3.3922, 3.4410, 3.4754, 3.4934, 3.5272, 3.5818,\n",
      "        3.5620, 3.5499, 3.5058, 3.5027, 3.5474, 3.4924, 3.5117, 3.5046, 3.4785,\n",
      "        3.4620, 3.4751, 3.4791, 3.5809, 3.6355, 3.6123, 3.5620, 3.5477, 3.5808,\n",
      "        3.5648, 3.6020, 3.6436, 3.6613, 3.7187, 3.7385, 3.7564, 3.7740, 3.7835,\n",
      "        3.7828, 3.7627, 3.7278, 3.7401, 3.7382, 3.7724, 3.8105, 3.8039, 3.8092,\n",
      "        3.8294, 3.8162, 3.8470, 3.8523, 3.8822])\n",
      "Loss: tensor(0.2139, grad_fn=<MseLossBackward>)\n",
      "Output: tensor([3.3081, 3.3030, 3.2912, 3.2875, 3.3005, 3.2448, 3.2264, 3.2674, 3.2341,\n",
      "        3.2988, 3.2726, 3.2827, 3.2597, 3.3032, 3.2927, 3.2968, 3.2799, 3.2365,\n",
      "        3.2105, 3.1848, 3.1584, 3.1269, 3.1351, 3.1438, 3.1016, 3.1438, 3.1425,\n",
      "        3.1448, 3.1683, 3.1473, 3.1413, 3.1240, 3.1545, 3.1543, 3.1451, 3.0807,\n",
      "        3.0768, 3.1051, 3.1326, 3.1225, 3.1159, 3.1088, 3.1080, 3.1096, 3.1426,\n",
      "        3.1352, 3.1291, 3.1069, 3.0915, 3.0524], grad_fn=<ViewBackward>)\n",
      "Expected: tensor([3.8630, 3.8555, 3.8618, 3.8797, 3.6986, 3.7183, 3.7793, 3.7146, 3.7344,\n",
      "        3.8222, 3.8457, 3.7982, 3.8715, 3.8602, 3.8765, 3.8243, 3.7221, 3.6473,\n",
      "        3.6008, 3.5894, 3.5529, 3.5470, 3.5278, 3.4960, 3.5775, 3.5636, 3.5703,\n",
      "        3.6146, 3.5850, 3.5885, 3.5297, 3.5680, 3.5552, 3.4894, 3.4444, 3.4426,\n",
      "        3.4831, 3.5291, 3.4960, 3.5032, 3.4992, 3.5020, 3.4988, 3.5614, 3.5636,\n",
      "        3.5482, 3.4964, 3.4690, 3.3982, 3.4684])\n",
      "Loss: tensor(0.2013, grad_fn=<MseLossBackward>)\n",
      "Output: tensor([3.0834, 3.0901, 3.1212, 3.1023, 3.0876, 3.0552, 3.0837, 3.0768, 3.0688,\n",
      "        3.0478, 3.0200, 3.0032, 3.0041, 3.0425, 3.0562, 3.0183, 3.0355, 3.0387,\n",
      "        3.1018, 3.1024, 3.1590, 3.1754, 3.1700, 3.1748, 3.2565, 3.1745, 3.1712,\n",
      "        3.1527, 3.1590, 3.1699, 3.1666, 3.1548, 3.1570, 3.1627, 3.2018, 3.2257,\n",
      "        3.2402, 3.2337, 3.2418, 3.2682, 3.2775, 3.2578, 3.2641, 3.2662, 3.2597,\n",
      "        3.2513, 3.2758, 3.2933, 3.3166, 3.2914], grad_fn=<ViewBackward>)\n",
      "Expected: tensor([3.5051, 3.5438, 3.5052, 3.4498, 3.4303, 3.4712, 3.4727, 3.4498, 3.4237,\n",
      "        3.3636, 3.3096, 3.3457, 3.3894, 3.4146, 3.3831, 3.3910, 3.3844, 3.4815,\n",
      "        3.5095, 3.5967, 3.6325, 3.6180, 3.6171, 3.6177, 3.6486, 3.6397, 3.6117,\n",
      "        3.6196, 3.6353, 3.6366, 3.6058, 3.6130, 3.6275, 3.6511, 3.7256, 3.7489,\n",
      "        3.7570, 3.7687, 3.8162, 3.8401, 3.8074, 3.8124, 3.8249, 3.8146, 3.7897,\n",
      "        3.8278, 3.7599, 3.8580, 3.8583, 3.8511])\n",
      "Loss: tensor(0.2112, grad_fn=<MseLossBackward>)\n",
      "Output: tensor([3.2953, 3.2907, 3.3259, 3.3846, 3.3613, 3.4377, 3.4348, 3.4038, 3.4018,\n",
      "        3.4075, 3.3908, 3.3735, 3.3373, 3.2955, 3.3090, 3.2953, 3.3046, 3.3343,\n",
      "        3.3142, 3.3508, 3.3413, 3.2993, 3.3310, 3.3380, 3.3426, 3.3309, 3.3205,\n",
      "        3.2653, 3.2609, 3.2464, 3.2501, 3.2733, 3.3302, 3.2667, 3.2901, 3.3006,\n",
      "        3.3341, 3.4104, 3.3791, 3.3606, 3.3181, 3.2753, 3.2705, 3.2553, 3.2452,\n",
      "        3.2220, 3.2204, 3.2407, 3.2823, 3.3070], grad_fn=<ViewBackward>)\n",
      "Expected: tensor([3.8504, 3.8853, 4.0155, 4.0033, 4.1130, 4.0976, 4.0561, 4.0916, 4.0743,\n",
      "        4.0492, 3.9932, 3.9344, 3.8655, 3.8910, 3.8595, 3.8926, 3.9196, 3.9124,\n",
      "        3.9730, 3.9551, 3.8881, 3.9511, 3.9611, 3.9702, 3.9111, 3.8451, 3.7539,\n",
      "        3.7803, 3.7548, 3.7658, 3.8249, 3.9026, 3.8168, 3.8520, 3.8857, 3.9080,\n",
      "        3.9099, 4.0234, 4.0023, 3.8888, 3.8180, 3.8190, 3.7954, 3.7800, 3.7366,\n",
      "        3.6957, 3.7337, 3.8121, 3.8712, 3.9067])\n",
      "Loss: tensor(0.3413, grad_fn=<MseLossBackward>)\n",
      "Output: tensor([3.3188, 3.3033, 3.2790, 3.2327, 3.1666, 3.1165, 3.1766, 3.1387, 3.1521,\n",
      "        3.1969, 3.1727, 3.2221, 3.2183, 3.1742, 3.1527, 3.1724, 3.2080, 3.1406,\n",
      "        3.1556, 3.0893, 3.0421, 3.0005, 3.0011, 2.9591, 2.9201, 2.9043, 2.8661,\n",
      "        2.8983, 2.9022, 2.9305, 2.8907, 2.8969, 2.9058, 2.8889, 2.9065, 2.9328,\n",
      "        2.9693, 2.9876, 2.9489, 2.8770, 2.8850, 2.9291, 2.9848, 3.0388, 3.0521,\n",
      "        3.0590, 3.0542, 3.0222, 3.0459, 3.1711], grad_fn=<ViewBackward>)\n",
      "Expected: tensor([3.8690, 3.8206, 3.6551, 3.5595, 3.5149, 3.5929, 3.5287, 3.5649, 3.6187,\n",
      "        3.6212, 3.6929, 3.6765, 3.5857, 3.5806, 3.6077, 3.5882, 3.5102, 3.5451,\n",
      "        3.4183, 3.3297, 3.1856, 3.2555, 3.1718, 3.0850, 3.1171, 3.0605, 3.0897,\n",
      "        3.1328, 3.1520, 3.1350, 3.1325, 3.1410, 3.1205, 3.1520, 3.1891, 3.2265,\n",
      "        3.2492, 3.1542, 3.0426, 3.0828, 3.1813, 3.2265, 3.3306, 3.3778, 3.4155,\n",
      "        3.3724, 3.3341, 3.3561, 3.3781, 3.2674])\n",
      "Loss: tensor(0.1064, grad_fn=<MseLossBackward>)\n",
      "Output: tensor([2.9921, 2.9550, 2.9464, 2.9570, 2.9190, 2.8865, 2.9190, 2.9102, 2.9426,\n",
      "        2.9154, 2.8846, 2.9800, 2.9840, 3.0218, 3.0200, 2.9861, 3.0061, 3.0344,\n",
      "        3.0166, 3.0451, 3.0575, 3.0409, 3.0587, 2.9833, 3.1798, 3.1161, 3.1145,\n",
      "        3.1831, 3.1863, 3.2515, 3.2490, 3.2820, 3.2954, 3.3152, 3.3347, 3.3393,\n",
      "        3.3584, 3.3374, 3.3209, 3.3146, 3.3367, 3.3730, 3.3591, 3.3652, 3.4005,\n",
      "        3.4128, 3.3934, 3.3666, 3.3593, 3.3891], grad_fn=<ViewBackward>)\n",
      "Expected: tensor([3.2114, 3.2205, 3.2014, 3.1221, 3.1042, 3.1495, 3.1243, 3.1775, 3.1400,\n",
      "        3.0941, 3.2457, 3.2737, 3.3357, 3.3510, 3.2988, 3.3227, 3.3749, 3.3599,\n",
      "        3.3740, 3.4099, 3.3806, 3.3171, 3.2857, 3.5086, 3.4718, 3.4869, 3.5778,\n",
      "        3.6225, 3.7162, 3.7476, 3.8042, 3.8561, 3.8923, 3.9146, 3.9454, 3.9620,\n",
      "        3.9416, 3.8658, 3.8806, 3.9102, 3.9493, 3.9694, 3.9601, 4.0300, 4.0648,\n",
      "        4.0543, 3.9349, 3.9614, 3.9943, 4.0584])\n",
      "Loss: tensor(0.2119, grad_fn=<MseLossBackward>)\n",
      "Output: tensor([3.4113, 3.3871, 3.4530, 3.4675, 3.4684, 3.4722, 3.5219, 3.5423, 3.5619,\n",
      "        3.5946, 3.6958, 3.5496, 3.5204, 3.5514, 3.5437, 3.4972, 3.4812, 3.4496,\n",
      "        3.4572, 3.4525, 3.4286, 3.4212, 3.4533, 3.4108, 3.4340, 3.4581, 3.4933,\n",
      "        3.5158, 3.4989, 3.5050, 3.5473, 3.5364, 3.5507, 3.6013, 3.5750, 3.5445,\n",
      "        3.4647, 3.4995, 3.4948, 3.5527, 3.5681, 3.5107, 3.4789, 3.4583, 3.4504,\n",
      "        3.4514, 3.4691, 3.4771, 3.4697, 3.4617], grad_fn=<ViewBackward>)\n",
      "Expected: tensor([4.0571, 4.1394, 4.1694, 4.1934, 4.1950, 4.3038, 4.3657, 4.4033, 4.4206,\n",
      "        4.5137, 4.3925, 4.2840, 4.3803, 4.3708, 4.2696, 4.2061, 4.1560, 4.1701,\n",
      "        4.1248, 4.1353, 4.1088, 4.1860, 4.1091, 4.1302, 4.1844, 4.2639, 4.3242,\n",
      "        4.2731, 4.3057, 4.3925, 4.3963, 4.4027, 4.5169, 4.3874, 4.2888, 4.2109,\n",
      "        4.2744, 4.2789, 4.3823, 4.4493, 4.3236, 4.2100, 4.1959, 4.1659, 4.1911,\n",
      "        4.2333, 4.2400, 4.2243, 4.2240, 4.1557])\n",
      "Loss: tensor(0.5962, grad_fn=<MseLossBackward>)\n",
      "Output: tensor([3.4566, 3.4693, 3.4730, 3.4821, 3.5201, 3.5125, 3.5307, 3.5339, 3.5293,\n",
      "        3.5573, 3.5597, 3.5847, 3.5938, 3.5884, 3.5776, 3.5704, 3.5487, 3.5512,\n",
      "        3.5097, 3.4623, 3.4855, 3.5132, 3.5381, 3.5688, 3.5863, 3.5726, 3.5672,\n",
      "        3.5439, 3.5259, 3.5305, 3.6337, 3.5728, 3.6261, 3.6894, 3.6754, 3.6795,\n",
      "        3.6360, 3.6374, 3.6428, 3.6267, 3.5612, 3.5684, 3.5379, 3.4204, 3.4683,\n",
      "        3.4100, 3.4654, 3.5240, 3.4479, 3.3608], grad_fn=<ViewBackward>)\n",
      "Expected: tensor([4.2199, 4.2467, 4.2329, 4.3044, 4.3223, 4.3816, 4.3848, 4.3784, 4.4378,\n",
      "        4.4518, 4.5144, 4.5214, 4.5169, 4.4722, 4.4391, 4.4397, 4.4091, 4.2763,\n",
      "        4.1841, 4.2218, 4.3038, 4.3733, 4.4531, 4.4863, 4.4716, 4.4365, 4.3784,\n",
      "        4.3835, 4.3204, 4.4116, 4.4493, 4.5616, 4.7218, 4.7071, 4.6720, 4.6241,\n",
      "        4.6050, 4.6107, 4.5807, 4.4161, 4.4263, 4.3111, 4.0000, 4.1404, 4.0855,\n",
      "        4.1768, 4.3066, 4.0096, 3.8826, 3.9477])\n",
      "Loss: tensor(0.7029, grad_fn=<MseLossBackward>)\n",
      "Output: tensor([3.3488, 3.2824, 3.2662, 3.2354, 3.2470, 3.2655, 3.2405, 3.3301, 3.3028,\n",
      "        3.3239, 3.2908, 3.2730, 3.2892, 3.3092, 3.3177, 3.2693, 3.2350, 3.2266,\n",
      "        3.2276, 3.2467, 3.1910, 3.0973, 3.1244, 3.1140, 3.1117, 3.1624, 3.1483,\n",
      "        3.1874, 3.2211, 3.2197, 3.2608, 3.2321, 3.1720, 3.1260, 3.1624, 3.1399,\n",
      "        3.1642, 3.1957, 3.1965, 3.1542, 3.1205, 3.1200, 3.1223, 3.1137, 3.1227,\n",
      "        3.0263, 3.0337, 3.0335, 2.9856, 3.0168], grad_fn=<ViewBackward>)\n",
      "Expected: tensor([3.7719, 3.7712, 3.6864, 3.7023, 3.7821, 3.7368, 3.8596, 3.8446, 3.8835,\n",
      "        3.8606, 3.8079, 3.8437, 3.8848, 3.8835, 3.6924, 3.6624, 3.7052, 3.7157,\n",
      "        3.7128, 3.6158, 3.4388, 3.5176, 3.5134, 3.5102, 3.5935, 3.5823, 3.6423,\n",
      "        3.6959, 3.6777, 3.7610, 3.7272, 3.6117, 3.4806, 3.5658, 3.5271, 3.5862,\n",
      "        3.6382, 3.6462, 3.5728, 3.5112, 3.4873, 3.5010, 3.4719, 3.3861, 3.3268,\n",
      "        3.3813, 3.3673, 3.2594, 3.2949, 3.3721])\n",
      "Loss: tensor(0.1933, grad_fn=<MseLossBackward>)\n",
      "Output: tensor([3.0368, 3.0868, 3.1298, 3.1164, 3.1136, 3.0803, 3.1067, 3.1257, 3.1503,\n",
      "        3.2576, 3.2384, 3.2071, 3.2066, 3.2460, 3.2752, 3.2487, 3.2173, 3.1398,\n",
      "        3.1626, 3.1841, 3.1721, 3.2318, 3.2538, 3.2384, 3.2223, 3.2258, 3.2437,\n",
      "        3.2621, 3.2863, 3.2916, 3.2863, 3.2907, 3.2879, 3.3008, 3.3266, 3.3220,\n",
      "        3.2907, 3.2781, 3.2740, 3.3067, 3.3156, 3.3079, 3.3234, 3.3340, 3.3196,\n",
      "        3.3248, 3.3322, 3.3664, 3.3729, 3.5024], grad_fn=<ViewBackward>)\n",
      "Expected: tensor([3.4432, 3.5198, 3.5249, 3.5121, 3.4557, 3.5035, 3.5511, 3.5766, 3.7231,\n",
      "        3.7601, 3.6848, 3.6781, 3.7355, 3.7977, 3.7495, 3.6181, 3.5322, 3.5638,\n",
      "        3.6210, 3.6162, 3.7017, 3.7830, 3.7173, 3.6800, 3.7304, 3.7680, 3.7945,\n",
      "        3.8418, 3.8325, 3.8689, 3.8641, 3.8606, 3.8775, 3.9238, 3.9257, 3.8481,\n",
      "        3.8351, 3.8067, 3.8851, 3.9244, 3.9011, 3.9359, 3.9250, 3.9059, 3.9292,\n",
      "        3.9400, 3.9780, 4.0070, 4.1142, 4.1637])\n",
      "Loss: tensor(0.2831, grad_fn=<MseLossBackward>)\n",
      "MSELoss: 0.264285062905401\n"
     ]
    }
   ],
   "source": [
    "import torch\n",
    "import torch.utils.data\n",
    "\n",
    "test_sample = pd.read_csv(os.path.join(data_dir, 'test.csv'), header=None, names=None, nrows=600)\n",
    "test_y = torch.from_numpy(test_sample[[0]].values).float().squeeze()\n",
    "test_X = torch.from_numpy(test_sample.drop([0], axis=1).values).float()\n",
    "\n",
    "#print(train_sample)\n",
    "print(test_y.shape)\n",
    "print(test_X.shape)\n",
    "\n",
    "# Build the dataset\n",
    "test_ds = torch.utils.data.TensorDataset(test_X, test_y)\n",
    "# Build the dataloader\n",
    "test_dl = torch.utils.data.DataLoader(test_ds, batch_size=50)\n",
    "\n",
    "\n",
    "def test(model, test_loader, criterion, device):\n",
    "    model.eval()\n",
    "    total_loss = 0\n",
    "\n",
    "    for batch in test_loader:\n",
    "        batch_X, batch_y = batch            \n",
    "        batch_X = batch_X.to(device)\n",
    "        batch_y = batch_y.to(device)\n",
    "\n",
    "        # convert data into Tensors\n",
    "        # x_tensor = torch.Tensor(x).unsqueeze(0) # unsqueeze gives a 1, batch_size dimension\n",
    "        # y_tensor = torch.Tensor(y)\n",
    "        x_tensor = torch.Tensor(batch_X).unsqueeze(0)\n",
    "\n",
    "        output = model(x_tensor)\n",
    "        loss = criterion(output.squeeze(), batch_y.float())\n",
    "        print(\"Output:\",output)\n",
    "        print(\"Expected:\",batch_y)\n",
    "        print(\"Loss:\",loss)\n",
    "        \n",
    "        \n",
    "        total_loss += loss.data.item()\n",
    "    print(\"MSELoss total: {}\".format(total_loss / len(test_loader)))\n",
    "\n",
    "loss_fn = torch.nn.MSELoss()\n",
    "test(model, test_dl, loss_fn, device)"
   ]
  },
  {
   "cell_type": "markdown",
   "metadata": {},
   "source": [
    "In order to construct a PyTorch model using SageMaker we must provide SageMaker with a training script. We may optionally include a directory which will be copied to the container and from which our training code will be run. When the training container is executed it will check the uploaded directory (if there is one) for a `requirements.txt` file and install any required Python libraries, after which the training script will be run."
   ]
  },
  {
   "cell_type": "markdown",
   "metadata": {},
   "source": [
    "### (TODO) Training the model\n",
    "\n",
    "When a PyTorch model is constructed in SageMaker, an entry point must be specified. This is the Python file which will be executed when the model is trained. Inside of the `train` directory is a file called `train.py` which has been provided and which contains most of the necessary code to train our model. The only thing that is missing is the implementation of the `train()` method which you wrote earlier in this notebook.\n",
    "\n",
    "**TODO**: Copy the `train()` method written above and paste it into the `train/train.py` file where required.\n",
    "\n",
    "The way that SageMaker passes hyperparameters to the training script is by way of arguments. These arguments can then be parsed and used in the training script. To see how this is done take a look at the provided `train/train.py` file."
   ]
  },
  {
   "cell_type": "code",
   "execution_count": null,
   "metadata": {},
   "outputs": [],
   "source": [
    "from sagemaker.pytorch import PyTorch\n",
    "\n",
    "estimator = PyTorch(entry_point=\"train.py\",\n",
    "                    source_dir=\"train\",\n",
    "                    role=role,\n",
    "                    framework_version='0.4.0',\n",
    "                    train_instance_count=1,\n",
    "                    train_instance_type='ml.p2.xlarge',\n",
    "                    hyperparameters={\n",
    "                        'epochs': 10,\n",
    "                        'hidden_dim': 200,\n",
    "                    })"
   ]
  },
  {
   "cell_type": "code",
   "execution_count": null,
   "metadata": {},
   "outputs": [],
   "source": [
    "estimator.fit({'training': input_data})"
   ]
  },
  {
   "cell_type": "markdown",
   "metadata": {},
   "source": [
    "## Step 5: Testing the model\n",
    "\n",
    "As mentioned at the top of this notebook, we will be testing this model by first deploying it and then sending the testing data to the deployed endpoint. We will do this so that we can make sure that the deployed model is working correctly.\n",
    "\n",
    "## Step 6: Deploy the model for testing\n",
    "\n",
    "Now that we have trained our model, we would like to test it to see how it performs. Currently our model takes input of the form `review_length, review[500]` where `review[500]` is a sequence of `500` integers which describe the words present in the review, encoded using `word_dict`. Fortunately for us, SageMaker provides built-in inference code for models with simple inputs such as this.\n",
    "\n",
    "There is one thing that we need to provide, however, and that is a function which loads the saved model. This function must be called `model_fn()` and takes as its only parameter a path to the directory where the model artifacts are stored. This function must also be present in the python file which we specified as the entry point. In our case the model loading function has been provided and so no changes need to be made.\n",
    "\n",
    "**NOTE**: When the built-in inference code is run it must import the `model_fn()` method from the `train.py` file. This is why the training code is wrapped in a main guard ( ie, `if __name__ == '__main__':` )\n",
    "\n",
    "Since we don't need to change anything in the code that was uploaded during training, we can simply deploy the current model as-is.\n",
    "\n",
    "**NOTE:** When deploying a model you are asking SageMaker to launch an compute instance that will wait for data to be sent to it. As a result, this compute instance will continue to run until *you* shut it down. This is important to know since the cost of a deployed endpoint depends on how long it has been running for.\n",
    "\n",
    "In other words **If you are no longer using a deployed endpoint, shut it down!**\n",
    "\n",
    "**TODO:** Deploy the trained model."
   ]
  },
  {
   "cell_type": "code",
   "execution_count": null,
   "metadata": {},
   "outputs": [],
   "source": [
    "# TODO: Deploy the trained model\n",
    "predictor = estimator.deploy(initial_instance_count=1, instance_type='ml.m4.xlarge')"
   ]
  },
  {
   "cell_type": "markdown",
   "metadata": {},
   "source": [
    "## Step 7 - Use the model for testing\n",
    "\n",
    "Once deployed, we can read in the test data and send it off to our deployed model to get some results. Once we collect all of the results we can determine how accurate our model is."
   ]
  },
  {
   "cell_type": "code",
   "execution_count": null,
   "metadata": {},
   "outputs": [],
   "source": [
    "test_X = pd.concat([pd.DataFrame(test_X_len), pd.DataFrame(test_X)], axis=1)"
   ]
  },
  {
   "cell_type": "code",
   "execution_count": null,
   "metadata": {},
   "outputs": [],
   "source": [
    "# We split the data into chunks and send each chunk seperately, accumulating the results.\n",
    "\n",
    "def predict(data, rows=512):\n",
    "    split_array = np.array_split(data, int(data.shape[0] / float(rows) + 1))\n",
    "    predictions = np.array([])\n",
    "    for array in split_array:\n",
    "        predictions = np.append(predictions, predictor.predict(array))\n",
    "    \n",
    "    return predictions"
   ]
  },
  {
   "cell_type": "code",
   "execution_count": null,
   "metadata": {},
   "outputs": [],
   "source": [
    "predictions = predict(test_X.values)\n",
    "predictions = [round(num) for num in predictions]"
   ]
  },
  {
   "cell_type": "code",
   "execution_count": null,
   "metadata": {},
   "outputs": [],
   "source": [
    "from sklearn.metrics import accuracy_score\n",
    "accuracy_score(test_y, predictions)"
   ]
  },
  {
   "cell_type": "markdown",
   "metadata": {},
   "source": [
    "**Question:** How does this model compare to the XGBoost model you created earlier? Why might these two models perform differently on this dataset? Which do *you* think is better for sentiment analysis?"
   ]
  },
  {
   "cell_type": "markdown",
   "metadata": {},
   "source": [
    "**Answer:**"
   ]
  },
  {
   "cell_type": "markdown",
   "metadata": {},
   "source": [
    "### (TODO) More testing\n",
    "\n",
    "We now have a trained model which has been deployed and which we can send processed reviews to and which returns the predicted sentiment. However, ultimately we would like to be able to send our model an unprocessed review. That is, we would like to send the review itself as a string. For example, suppose we wish to send the following review to our model."
   ]
  },
  {
   "cell_type": "code",
   "execution_count": null,
   "metadata": {},
   "outputs": [],
   "source": [
    "test_review = 'The simplest pleasures in life are the best, and this film is one of them. Combining a rather basic storyline of love and adventure this movie transcends the usual weekend fair with wit and unmitigated charm.'"
   ]
  },
  {
   "cell_type": "markdown",
   "metadata": {},
   "source": [
    "The question we now need to answer is, how do we send this review to our model?\n",
    "\n",
    "Recall in the first section of this notebook we did a bunch of data processing to the IMDb dataset. In particular, we did two specific things to the provided reviews.\n",
    " - Removed any html tags and stemmed the input\n",
    " - Encoded the review as a sequence of integers using `word_dict`\n",
    " \n",
    "In order process the review we will need to repeat these two steps.\n",
    "\n",
    "**TODO**: Using the `review_to_words` and `convert_and_pad` methods from section one, convert `test_review` into a numpy array `test_data` suitable to send to our model. Remember that our model expects input of the form `review_length, review[500]`."
   ]
  },
  {
   "cell_type": "code",
   "execution_count": null,
   "metadata": {},
   "outputs": [],
   "source": [
    "# TODO: Convert test_review into a form usable by the model and save the results in test_data\n",
    "test_data = None\n",
    "\n",
    "words = review_to_words(test_review)\n",
    "converted, length = convert_and_pad(word_dict, words)\n",
    "print(\"Review length: {}\".format(length))\n",
    "test_data = np.array([length] + converted)\n",
    "# print(test_data)\n",
    "# Need to reshape this further\n",
    "test_data = np.reshape(test_data, (-1, 501))\n",
    "print(test_data)"
   ]
  },
  {
   "cell_type": "markdown",
   "metadata": {},
   "source": [
    "Now that we have processed the review, we can send the resulting array to our model to predict the sentiment of the review."
   ]
  },
  {
   "cell_type": "code",
   "execution_count": null,
   "metadata": {},
   "outputs": [],
   "source": [
    "predictor.predict(test_data)"
   ]
  },
  {
   "cell_type": "markdown",
   "metadata": {},
   "source": [
    "Since the return value of our model is close to `1`, we can be certain that the review we submitted is positive."
   ]
  },
  {
   "cell_type": "markdown",
   "metadata": {},
   "source": [
    "### Delete the endpoint\n",
    "\n",
    "Of course, just like in the XGBoost notebook, once we've deployed an endpoint it continues to run until we tell it to shut down. Since we are done using our endpoint for now, we can delete it."
   ]
  },
  {
   "cell_type": "code",
   "execution_count": null,
   "metadata": {},
   "outputs": [],
   "source": [
    "estimator.delete_endpoint()"
   ]
  },
  {
   "cell_type": "markdown",
   "metadata": {},
   "source": [
    "## Step 6 (again) - Deploy the model for the web app\n",
    "\n",
    "Now that we know that our model is working, it's time to create some custom inference code so that we can send the model a review which has not been processed and have it determine the sentiment of the review.\n",
    "\n",
    "As we saw above, by default the estimator which we created, when deployed, will use the entry script and directory which we provided when creating the model. However, since we now wish to accept a string as input and our model expects a processed review, we need to write some custom inference code.\n",
    "\n",
    "We will store the code that we write in the `serve` directory. Provided in this directory is the `model.py` file that we used to construct our model, a `utils.py` file which contains the `review_to_words` and `convert_and_pad` pre-processing functions which we used during the initial data processing, and `predict.py`, the file which will contain our custom inference code. Note also that `requirements.txt` is present which will tell SageMaker what Python libraries are required by our custom inference code.\n",
    "\n",
    "When deploying a PyTorch model in SageMaker, you are expected to provide four functions which the SageMaker inference container will use.\n",
    " - `model_fn`: This function is the same function that we used in the training script and it tells SageMaker how to load our model.\n",
    " - `input_fn`: This function receives the raw serialized input that has been sent to the model's endpoint and its job is to de-serialize and make the input available for the inference code.\n",
    " - `output_fn`: This function takes the output of the inference code and its job is to serialize this output and return it to the caller of the model's endpoint.\n",
    " - `predict_fn`: The heart of the inference script, this is where the actual prediction is done and is the function which you will need to complete.\n",
    "\n",
    "For the simple website that we are constructing during this project, the `input_fn` and `output_fn` methods are relatively straightforward. We only require being able to accept a string as input and we expect to return a single value as output. You might imagine though that in a more complex application the input or output may be image data or some other binary data which would require some effort to serialize.\n",
    "\n",
    "### (TODO) Writing inference code\n",
    "\n",
    "Before writing our custom inference code, we will begin by taking a look at the code which has been provided."
   ]
  },
  {
   "cell_type": "code",
   "execution_count": null,
   "metadata": {},
   "outputs": [],
   "source": [
    "!pygmentize serve/predict.py"
   ]
  },
  {
   "cell_type": "markdown",
   "metadata": {},
   "source": [
    "As mentioned earlier, the `model_fn` method is the same as the one provided in the training code and the `input_fn` and `output_fn` methods are very simple and your task will be to complete the `predict_fn` method. Make sure that you save the completed file as `predict.py` in the `serve` directory.\n",
    "\n",
    "**TODO**: Complete the `predict_fn()` method in the `serve/predict.py` file."
   ]
  },
  {
   "cell_type": "markdown",
   "metadata": {},
   "source": [
    "### Deploying the model\n",
    "\n",
    "Now that the custom inference code has been written, we will create and deploy our model. To begin with, we need to construct a new PyTorchModel object which points to the model artifacts created during training and also points to the inference code that we wish to use. Then we can call the deploy method to launch the deployment container.\n",
    "\n",
    "**NOTE**: The default behaviour for a deployed PyTorch model is to assume that any input passed to the predictor is a `numpy` array. In our case we want to send a string so we need to construct a simple wrapper around the `RealTimePredictor` class to accomodate simple strings. In a more complicated situation you may want to provide a serialization object, for example if you wanted to sent image data."
   ]
  },
  {
   "cell_type": "code",
   "execution_count": null,
   "metadata": {},
   "outputs": [],
   "source": [
    "from sagemaker.predictor import RealTimePredictor\n",
    "from sagemaker.pytorch import PyTorchModel\n",
    "\n",
    "class StringPredictor(RealTimePredictor):\n",
    "    def __init__(self, endpoint_name, sagemaker_session):\n",
    "        super(StringPredictor, self).__init__(endpoint_name, sagemaker_session, content_type='text/plain')\n",
    "\n",
    "model = PyTorchModel(model_data=estimator.model_data,\n",
    "                     role = role,\n",
    "                     framework_version='0.4.0',\n",
    "                     entry_point='predict.py',\n",
    "                     source_dir='serve',\n",
    "                     predictor_cls=StringPredictor)\n",
    "predictor = model.deploy(initial_instance_count=1, instance_type='ml.m4.xlarge')"
   ]
  },
  {
   "cell_type": "markdown",
   "metadata": {},
   "source": [
    "### Testing the model\n",
    "\n",
    "Now that we have deployed our model with the custom inference code, we should test to see if everything is working. Here we test our model by loading the first `250` positive and negative reviews and send them to the endpoint, then collect the results. The reason for only sending some of the data is that the amount of time it takes for our model to process the input and then perform inference is quite long and so testing the entire data set would be prohibitive."
   ]
  },
  {
   "cell_type": "code",
   "execution_count": null,
   "metadata": {},
   "outputs": [],
   "source": [
    "import glob\n",
    "\n",
    "def test_reviews(data_dir='../data/aclImdb', stop=250):\n",
    "    \n",
    "    results = []\n",
    "    ground = []\n",
    "    \n",
    "    # We make sure to test both positive and negative reviews    \n",
    "    for sentiment in ['pos', 'neg']:\n",
    "        \n",
    "        path = os.path.join(data_dir, 'test', sentiment, '*.txt')\n",
    "        files = glob.glob(path)\n",
    "        \n",
    "        files_read = 0\n",
    "        \n",
    "        print('Starting ', sentiment, ' files')\n",
    "        \n",
    "        # Iterate through the files and send them to the predictor\n",
    "        for f in files:\n",
    "            with open(f) as review:\n",
    "                # First, we store the ground truth (was the review positive or negative)\n",
    "                if sentiment == 'pos':\n",
    "                    ground.append(1)\n",
    "                else:\n",
    "                    ground.append(0)\n",
    "                # Read in the review and convert to 'utf-8' for transmission via HTTP\n",
    "                review_input = review.read().encode('utf-8')\n",
    "                # Send the review to the predictor and store the results\n",
    "                results.append(int(predictor.predict(review_input)))\n",
    "                \n",
    "            # Sending reviews to our endpoint one at a time takes a while so we\n",
    "            # only send a small number of reviews\n",
    "            files_read += 1\n",
    "            if files_read == stop:\n",
    "                break\n",
    "            \n",
    "    return ground, results"
   ]
  },
  {
   "cell_type": "code",
   "execution_count": null,
   "metadata": {},
   "outputs": [],
   "source": [
    "ground, results = test_reviews()"
   ]
  },
  {
   "cell_type": "code",
   "execution_count": null,
   "metadata": {},
   "outputs": [],
   "source": [
    "from sklearn.metrics import accuracy_score\n",
    "accuracy_score(ground, results)"
   ]
  },
  {
   "cell_type": "markdown",
   "metadata": {},
   "source": [
    "As an additional test, we can try sending the `test_review` that we looked at earlier."
   ]
  },
  {
   "cell_type": "code",
   "execution_count": null,
   "metadata": {},
   "outputs": [],
   "source": [
    "predictor.predict(test_review)"
   ]
  },
  {
   "cell_type": "markdown",
   "metadata": {},
   "source": [
    "Now that we know our endpoint is working as expected, we can set up the web page that will interact with it. If you don't have time to finish the project now, make sure to skip down to the end of this notebook and shut down your endpoint. You can deploy it again when you come back."
   ]
  },
  {
   "cell_type": "markdown",
   "metadata": {},
   "source": [
    "## Step 7 (again): Use the model for the web app\n",
    "\n",
    "> **TODO:** This entire section and the next contain tasks for you to complete, mostly using the AWS console.\n",
    "\n",
    "So far we have been accessing our model endpoint by constructing a predictor object which uses the endpoint and then just using the predictor object to perform inference. What if we wanted to create a web app which accessed our model? The way things are set up currently makes that not possible since in order to access a SageMaker endpoint the app would first have to authenticate with AWS using an IAM role which included access to SageMaker endpoints. However, there is an easier way! We just need to use some additional AWS services.\n",
    "\n",
    "<img src=\"Web App Diagram.svg\">\n",
    "\n",
    "The diagram above gives an overview of how the various services will work together. On the far right is the model which we trained above and which is deployed using SageMaker. On the far left is our web app that collects a user's movie review, sends it off and expects a positive or negative sentiment in return.\n",
    "\n",
    "In the middle is where some of the magic happens. We will construct a Lambda function, which you can think of as a straightforward Python function that can be executed whenever a specified event occurs. We will give this function permission to send and recieve data from a SageMaker endpoint.\n",
    "\n",
    "Lastly, the method we will use to execute the Lambda function is a new endpoint that we will create using API Gateway. This endpoint will be a url that listens for data to be sent to it. Once it gets some data it will pass that data on to the Lambda function and then return whatever the Lambda function returns. Essentially it will act as an interface that lets our web app communicate with the Lambda function.\n",
    "\n",
    "### Setting up a Lambda function\n",
    "\n",
    "The first thing we are going to do is set up a Lambda function. This Lambda function will be executed whenever our public API has data sent to it. When it is executed it will receive the data, perform any sort of processing that is required, send the data (the review) to the SageMaker endpoint we've created and then return the result.\n",
    "\n",
    "#### Part A: Create an IAM Role for the Lambda function\n",
    "\n",
    "Since we want the Lambda function to call a SageMaker endpoint, we need to make sure that it has permission to do so. To do this, we will construct a role that we can later give the Lambda function.\n",
    "\n",
    "Using the AWS Console, navigate to the **IAM** page and click on **Roles**. Then, click on **Create role**. Make sure that the **AWS service** is the type of trusted entity selected and choose **Lambda** as the service that will use this role, then click **Next: Permissions**.\n",
    "\n",
    "In the search box type `sagemaker` and select the check box next to the **AmazonSageMakerFullAccess** policy. Then, click on **Next: Review**.\n",
    "\n",
    "Lastly, give this role a name. Make sure you use a name that you will remember later on, for example `LambdaSageMakerRole`. Then, click on **Create role**.\n",
    "\n",
    "#### Part B: Create a Lambda function\n",
    "\n",
    "Now it is time to actually create the Lambda function.\n",
    "\n",
    "Using the AWS Console, navigate to the AWS Lambda page and click on **Create a function**. When you get to the next page, make sure that **Author from scratch** is selected. Now, name your Lambda function, using a name that you will remember later on, for example `sentiment_analysis_func`. Make sure that the **Python 3.6** runtime is selected and then choose the role that you created in the previous part. Then, click on **Create Function**.\n",
    "\n",
    "On the next page you will see some information about the Lambda function you've just created. If you scroll down you should see an editor in which you can write the code that will be executed when your Lambda function is triggered. In our example, we will use the code below. \n",
    "\n",
    "```python\n",
    "# We need to use the low-level library to interact with SageMaker since the SageMaker API\n",
    "# is not available natively through Lambda.\n",
    "import boto3\n",
    "\n",
    "def lambda_handler(event, context):\n",
    "\n",
    "    # The SageMaker runtime is what allows us to invoke the endpoint that we've created.\n",
    "    runtime = boto3.Session().client('sagemaker-runtime')\n",
    "\n",
    "    # Now we use the SageMaker runtime to invoke our endpoint, sending the review we were given\n",
    "    response = runtime.invoke_endpoint(EndpointName = '**ENDPOINT NAME HERE**',    # The name of the endpoint we created\n",
    "                                       ContentType = 'text/plain',                 # The data format that is expected\n",
    "                                       Body = event['body'])                       # The actual review\n",
    "\n",
    "    # The response is an HTTP response whose body contains the result of our inference\n",
    "    result = response['Body'].read().decode('utf-8')\n",
    "\n",
    "    return {\n",
    "        'statusCode' : 200,\n",
    "        'headers' : { 'Content-Type' : 'text/plain', 'Access-Control-Allow-Origin' : '*' },\n",
    "        'body' : result\n",
    "    }\n",
    "```\n",
    "\n",
    "Once you have copy and pasted the code above into the Lambda code editor, replace the `**ENDPOINT NAME HERE**` portion with the name of the endpoint that we deployed earlier. You can determine the name of the endpoint using the code cell below."
   ]
  },
  {
   "cell_type": "code",
   "execution_count": null,
   "metadata": {},
   "outputs": [],
   "source": [
    "predictor.endpoint"
   ]
  },
  {
   "cell_type": "markdown",
   "metadata": {},
   "source": [
    "Once you have added the endpoint name to the Lambda function, click on **Save**. Your Lambda function is now up and running. Next we need to create a way for our web app to execute the Lambda function.\n",
    "\n",
    "### Setting up API Gateway\n",
    "\n",
    "Now that our Lambda function is set up, it is time to create a new API using API Gateway that will trigger the Lambda function we have just created.\n",
    "\n",
    "Using AWS Console, navigate to **Amazon API Gateway** and then click on **Get started**.\n",
    "\n",
    "On the next page, make sure that **New API** is selected and give the new api a name, for example, `sentiment_analysis_api`. Then, click on **Create API**.\n",
    "\n",
    "Now we have created an API, however it doesn't currently do anything. What we want it to do is to trigger the Lambda function that we created earlier.\n",
    "\n",
    "Select the **Actions** dropdown menu and click **Create Method**. A new blank method will be created, select its dropdown menu and select **POST**, then click on the check mark beside it.\n",
    "\n",
    "For the integration point, make sure that **Lambda Function** is selected and click on the **Use Lambda Proxy integration**. This option makes sure that the data that is sent to the API is then sent directly to the Lambda function with no processing. It also means that the return value must be a proper response object as it will also not be processed by API Gateway.\n",
    "\n",
    "Type the name of the Lambda function you created earlier into the **Lambda Function** text entry box and then click on **Save**. Click on **OK** in the pop-up box that then appears, giving permission to API Gateway to invoke the Lambda function you created.\n",
    "\n",
    "The last step in creating the API Gateway is to select the **Actions** dropdown and click on **Deploy API**. You will need to create a new Deployment stage and name it anything you like, for example `prod`.\n",
    "\n",
    "You have now successfully set up a public API to access your SageMaker model. Make sure to copy or write down the URL provided to invoke your newly created public API as this will be needed in the next step. This URL can be found at the top of the page, highlighted in blue next to the text **Invoke URL**."
   ]
  },
  {
   "cell_type": "markdown",
   "metadata": {},
   "source": [
    "## Step 4: Deploying our web app\n",
    "\n",
    "Now that we have a publicly available API, we can start using it in a web app. For our purposes, we have provided a simple static html file which can make use of the public api you created earlier.\n",
    "\n",
    "In the `website` folder there should be a file called `index.html`. Download the file to your computer and open that file up in a text editor of your choice. There should be a line which contains **\\*\\*REPLACE WITH PUBLIC API URL\\*\\***. Replace this string with the url that you wrote down in the last step and then save the file.\n",
    "\n",
    "Now, if you open `index.html` on your local computer, your browser will behave as a local web server and you can use the provided site to interact with your SageMaker model.\n",
    "\n",
    "If you'd like to go further, you can host this html file anywhere you'd like, for example using github or hosting a static site on Amazon's S3. Once you have done this you can share the link with anyone you'd like and have them play with it too!\n",
    "\n",
    "> **Important Note** In order for the web app to communicate with the SageMaker endpoint, the endpoint has to actually be deployed and running. This means that you are paying for it. Make sure that the endpoint is running when you want to use the web app but that you shut it down when you don't need it, otherwise you will end up with a surprisingly large AWS bill.\n",
    "\n",
    "**TODO:** Make sure that you include the edited `index.html` file in your project submission."
   ]
  },
  {
   "cell_type": "markdown",
   "metadata": {},
   "source": [
    "Now that your web app is working, trying playing around with it and see how well it works.\n",
    "\n",
    "**Question**: Give an example of a review that you entered into your web app. What was the predicted sentiment of your example review?"
   ]
  },
  {
   "cell_type": "markdown",
   "metadata": {},
   "source": [
    "**Answer:**"
   ]
  },
  {
   "cell_type": "markdown",
   "metadata": {},
   "source": [
    "### Delete the endpoint\n",
    "\n",
    "Remember to always shut down your endpoint if you are no longer using it. You are charged for the length of time that the endpoint is running so if you forget and leave it on you could end up with an unexpectedly large bill."
   ]
  },
  {
   "cell_type": "code",
   "execution_count": null,
   "metadata": {},
   "outputs": [],
   "source": [
    "predictor.delete_endpoint()"
   ]
  },
  {
   "cell_type": "code",
   "execution_count": null,
   "metadata": {},
   "outputs": [],
   "source": []
  }
 ],
 "metadata": {
  "kernelspec": {
   "display_name": "conda_pytorch_p36",
   "language": "python",
   "name": "conda_pytorch_p36"
  },
  "language_info": {
   "codemirror_mode": {
    "name": "ipython",
    "version": 3
   },
   "file_extension": ".py",
   "mimetype": "text/x-python",
   "name": "python",
   "nbconvert_exporter": "python",
   "pygments_lexer": "ipython3",
   "version": "3.6.5"
  }
 },
 "nbformat": 4,
 "nbformat_minor": 2
}
